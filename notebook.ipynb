{
 "cells": [
  {
   "cell_type": "markdown",
   "metadata": {},
   "source": [
    "### Quantum computation with Qiskit | Introduction to errors and error mitigation"
   ]
  },
  {
   "cell_type": "markdown",
   "metadata": {},
   "source": [
    "#### Introduction"
   ]
  },
  {
   "cell_type": "markdown",
   "metadata": {},
   "source": [
    "Qiskit Composer is great and all but for most realistic projects you will be working on, you need to write at least some code.\n",
    "\n",
    "Let's use the code that the Composer generated for us to create what's called a uniform superposition of the computational basis states for a $3$-qubit system. We'll also need a classical register to store the results once we have the binary computational basis outcomes."
   ]
  },
  {
   "cell_type": "code",
   "execution_count": null,
   "metadata": {},
   "outputs": [],
   "source": [
    "from qiskit import QuantumCircuit\n",
    "\n",
    "circ = QuantumCircuit(3, 3) # 3 qubits, 3 classical bits\n",
    "for i in range(3):\n",
    "    circ.h(i)"
   ]
  },
  {
   "cell_type": "code",
   "execution_count": null,
   "metadata": {},
   "outputs": [],
   "source": [
    "circ.draw(output='mpl') # mpl uses the matplotlib library to draw the circuit instead of the default text-based output"
   ]
  },
  {
   "cell_type": "markdown",
   "metadata": {},
   "source": [
    "The circuit will evolve the initial state |000> to H_3|000> where H_3 is the Hadamard gate applied to all three qubits or the tensor product of three Hadamard gates. What do you think will be the output of this circuit?"
   ]
  },
  {
   "cell_type": "markdown",
   "metadata": {},
   "source": [
    "While the state does evolve, seeing what it evolves to requires observing the state. This is done by measuring the state in the computational basis (you can measure states in other bases too, but let's focus on the computational basis for now). The measurement process is probabilistic, so we will need to run the circuit multiple times to get a good idea of what the probability distribution of the outcomes is.\n",
    "\n",
    "`shots` is the number of times the circuit is run. Generally, the more shots, the more accurate the results will be.\n",
    "\n",
    "Let's add measurement operators to the circuit and run it for 1024 shots.\n",
    "`QuantumCircuit`s have a `measure` method that takes the qubit to measure and the classical bit to store the result in. Alternatively if we want to measure all qubits, we can use the `measure_all` method."
   ]
  },
  {
   "cell_type": "code",
   "execution_count": null,
   "metadata": {},
   "outputs": [],
   "source": [
    "circ.measure_all(add_bits=False) # or circ.measure([0,1,2], [0,1,2]) to measure qubits 0, 1, and 2 and store the results in classical bits 0, 1, and 2\n",
    "circ.draw(output='mpl')"
   ]
  },
  {
   "cell_type": "markdown",
   "metadata": {},
   "source": [
    "### Running circuits\n",
    "\n",
    "You can run the circuits on the real quantum devices if you really want to, but you'll have to wait in the queue. For the purposes of this demonstration, we'll stick to simulating things on our computers.\n",
    "\n",
    "Qiskit (more specifically `qiskit-ibm-runtime`) provides us with `FakeProvider` which allows us to mimic and simulate the behavior of real devices through the snapshots they provide."
   ]
  },
  {
   "cell_type": "code",
   "execution_count": null,
   "metadata": {},
   "outputs": [],
   "source": [
    "from qiskit_ibm_runtime.fake_provider import FakeKyoto\n",
    "\n",
    "backend = FakeKyoto()\n",
    "\n",
    "shots = 1024 # Let's not forget the number of shots\n",
    "\n",
    "job = backend.run(circ, shots=shots) # For a real device, you'd be waiting in queue here\n",
    "result = job.result()"
   ]
  },
  {
   "cell_type": "code",
   "execution_count": null,
   "metadata": {},
   "outputs": [],
   "source": [
    "result"
   ]
  },
  {
   "cell_type": "markdown",
   "metadata": {},
   "source": [
    "Seems like there's a bunch of information within the result object. We really just want the probabilities of the basis states to decipher what happened:"
   ]
  },
  {
   "cell_type": "code",
   "execution_count": null,
   "metadata": {},
   "outputs": [],
   "source": [
    "counts = result.get_counts()\n",
    "probabilities = {state: count / shots for state, count in counts.items()}\n",
    "probabilities"
   ]
  },
  {
   "cell_type": "markdown",
   "metadata": {},
   "source": [
    "See how these probabilities are not exactly ideal? This is because of errors in the quantum computation. These errors can be due to a variety of reasons, such as noise in the system, imperfect gates, small number of shots and so on. We can't get rid of these errors, but we can try to mitigate them. More on this later. Let's try to visualize the results first."
   ]
  },
  {
   "cell_type": "code",
   "execution_count": null,
   "metadata": {},
   "outputs": [],
   "source": [
    "from qiskit.visualization import plot_histogram\n",
    "\n",
    "plot_histogram(probabilities)"
   ]
  },
  {
   "cell_type": "markdown",
   "metadata": {},
   "source": [
    "What if we did want the ideal state that the circuit evolved to? Well Qiskit Aer has ideal simulators that we can use. Qiskit Aer offers high performance simulators for simulations. It also supports noise models for realistic simulations. We can also tweak the noise models and see how they affect the results."
   ]
  },
  {
   "cell_type": "code",
   "execution_count": null,
   "metadata": {},
   "outputs": [],
   "source": [
    "from qiskit_aer import AerSimulator\n",
    "\n",
    "circ = QuantumCircuit(3, 3)\n",
    "for i in range(3):\n",
    "    circ.h(i)\n",
    "circ.save_statevector()\n",
    "\n",
    "aer_backend = AerSimulator(method='statevector')\n",
    "job = aer_backend.run(circ)\n",
    "\n",
    "result = job.result()\n",
    "statevector = result.get_statevector()\n",
    "statevector"
   ]
  },
  {
   "cell_type": "code",
   "execution_count": null,
   "metadata": {},
   "outputs": [],
   "source": [
    "statevector.draw('latex')"
   ]
  },
  {
   "cell_type": "markdown",
   "metadata": {},
   "source": [
    "#### Note: Estimator and Sampler\n",
    "\n",
    "Since Qiskit 1.0 (recently released), backend.run methods have been deprecated. Instead, you have to rely on `Sampler` and `Estimator` primitives to do the job for you - they're really an abstraction of the processes we just carried out. For the most part, whatever we do can essentially be done with the `Sampler` primitive. The `Estimator` primitive is used to estimate the expectation value of an observable. The interface is still pretty much the same, so you shouldn't have any trouble transitioning.\n",
    "\n",
    "See https://docs.quantum.ibm.com/guides/get-started-with-primitives for a guide on how to use these primitives."
   ]
  },
  {
   "cell_type": "markdown",
   "metadata": {},
   "source": [
    "##### Note: Transpiling circuits\n",
    "\n",
    "The circuit we've run so far are very simple. Complicated circuits still need to respect the topology of the device they're running on - some gates might not be available for some qubits, some qubits might not be connected to each other etc. Additionally, some circuits could have parts that are redundant or can be optimized. Some circuits have gates that need to be decomposed into a series of operations that are available on the device. The process that covers all of this is called transpilation.\n",
    "\n",
    "Circuits are abstract until they're converted into physical/ISA circuits using a transpiler.\n",
    "\n",
    "Beyond simulations, ensure you transpile your circuits before running them on real devices. The highest level and perhaps the easiest to use function for this is `transpile`."
   ]
  },
  {
   "cell_type": "code",
   "execution_count": null,
   "metadata": {},
   "outputs": [],
   "source": [
    "backend.operation_names # (Basis) Operations available on the FakeKyoto backend"
   ]
  },
  {
   "cell_type": "code",
   "execution_count": null,
   "metadata": {},
   "outputs": [],
   "source": [
    "test_circuit = QuantumCircuit(2, 2)\n",
    "test_circuit.y(0)\n",
    "\n",
    "test_circuit.draw('mpl')"
   ]
  },
  {
   "cell_type": "code",
   "execution_count": null,
   "metadata": {},
   "outputs": [],
   "source": [
    "from qiskit import transpile\n",
    "\n",
    "transpiled_circuit = transpile(test_circuit, backend)\n",
    "transpiled_circuit.draw('mpl')"
   ]
  },
  {
   "cell_type": "markdown",
   "metadata": {},
   "source": [
    "### A taste of optimization: preparing an entangled state"
   ]
  },
  {
   "cell_type": "code",
   "execution_count": null,
   "metadata": {},
   "outputs": [],
   "source": [
    "# The target state is |0> + |1>\n",
    "# We can use the statevector simulator to get the statevector of the circuit and then calculate the fidelity of the statevector with the target statevector.\n",
    "import numpy as np\n",
    "from qiskit.quantum_info import Statevector\n",
    "\n",
    "target_state = np.array([1, 0, 0, 1])/np.sqrt(2)\n",
    "target_statevector = Statevector(target_state)\n",
    "target_statevector.draw('latex')"
   ]
  },
  {
   "cell_type": "code",
   "execution_count": null,
   "metadata": {},
   "outputs": [],
   "source": [
    "import numpy as np\n",
    "from qiskit.circuit import Parameter\n",
    "from qiskit.quantum_info import state_fidelity\n",
    "from scipy.optimize import minimize\n",
    "from qiskit_aer import StatevectorSimulator\n",
    "\n",
    "param_a = Parameter('a')\n",
    "param_b = Parameter('b')\n",
    "\n",
    "qc = QuantumCircuit(2)\n",
    "qc.ry(Parameter('a'), 0)\n",
    "qc.rx(Parameter('b'), 0)\n",
    "qc.cx(0, 1)\n",
    "\n",
    "def objective_function(params):\n",
    "    aer_backend = StatevectorSimulator()\n",
    "    bound_circuit = qc.assign_parameters({'a': params[0], 'b': params[1]})\n",
    "    job = aer_backend.run(bound_circuit)\n",
    "    result = job.result()\n",
    "    statevector = result.get_statevector()\n",
    "    fidelity = state_fidelity(target_statevector, statevector)\n",
    "    return 1 - fidelity\n",
    "\n",
    "initial_guess = [0,  0] # Try changing and varying the initial guess to see what other values the optimizer converges to\n",
    "result = minimize(objective_function, initial_guess, method='BFGS', tol=1e-8) # Try changing the optimization method and tolerance to see how the optimizer behaves"
   ]
  },
  {
   "cell_type": "code",
   "execution_count": null,
   "metadata": {},
   "outputs": [],
   "source": [
    "result"
   ]
  },
  {
   "cell_type": "code",
   "execution_count": null,
   "metadata": {},
   "outputs": [],
   "source": [
    "# The optimized parameters are stored in the x attribute of the result object, see what the state is\n",
    "optimized_params = result.x\n",
    "optimized_circuit = qc.assign_parameters({'a': optimized_params[0], 'b': optimized_params[1]})\n",
    "aer_backend = StatevectorSimulator()\n",
    "job = aer_backend.run(optimized_circuit)\n",
    "res = job.result()\n",
    "optimized_statevector = res.get_statevector()\n",
    "optimized_statevector.draw('latex')\n"
   ]
  },
  {
   "cell_type": "code",
   "execution_count": null,
   "metadata": {},
   "outputs": [],
   "source": [
    "plot_histogram(optimized_statevector.sample_counts(shots=2048))"
   ]
  },
  {
   "cell_type": "code",
   "execution_count": null,
   "metadata": {},
   "outputs": [],
   "source": [
    "hadamard_circuit = QuantumCircuit(1)\n",
    "hadamard_circuit.h(0)\n",
    "transpile(hadamard_circuit, basis_gates=['ry', 'rx']).draw('mpl')"
   ]
  },
  {
   "cell_type": "markdown",
   "metadata": {},
   "source": [
    "Why pi? What's going on?"
   ]
  },
  {
   "cell_type": "markdown",
   "metadata": {},
   "source": [
    "### Errors and error mitigation"
   ]
  },
  {
   "cell_type": "markdown",
   "metadata": {},
   "source": [
    "Intro to errors covered in the slides"
   ]
  },
  {
   "cell_type": "markdown",
   "metadata": {},
   "source": [
    "#### Readout error mitigation"
   ]
  },
  {
   "cell_type": "code",
   "execution_count": null,
   "metadata": {},
   "outputs": [],
   "source": [
    "from qiskit_ibm_runtime.fake_provider import FakePerth\n",
    "aer_perth_simulator = AerSimulator.from_backend(FakePerth())\n",
    "# from_backend creates a simulator and takes noise parameters from the backend\n",
    "# Could also create own custom NoiseModel\n",
    "\n",
    "from qiskit.circuit.random import random_circuit\n",
    "\n",
    "example_circuit = random_circuit(3, depth=3, measure=True)\n",
    "example_circuit.draw('mpl')"
   ]
  },
  {
   "cell_type": "code",
   "execution_count": null,
   "metadata": {},
   "outputs": [],
   "source": [
    "calibration_circuits = []\n",
    "# Create circuits with all possible initial states for 3 qubits and measure them\n",
    "for i in range(2**3):\n",
    "    qc = QuantumCircuit(3, 3)\n",
    "    binary = reversed(format(i, '03b')) # reversed because qiskit uses the little-endian convention\n",
    "    for j, bit in enumerate(binary):\n",
    "        if bit == '1':\n",
    "            qc.x(j)\n",
    "    qc.measure_all(add_bits=False)\n",
    "    calibration_circuits.append(qc)"
   ]
  },
  {
   "cell_type": "code",
   "execution_count": null,
   "metadata": {},
   "outputs": [],
   "source": [
    "calibration_circuits[2].draw('mpl')"
   ]
  },
  {
   "cell_type": "code",
   "execution_count": null,
   "metadata": {},
   "outputs": [],
   "source": [
    "shots = 2048"
   ]
  },
  {
   "cell_type": "code",
   "execution_count": null,
   "metadata": {},
   "outputs": [],
   "source": [
    "# Run the calibration circuits on the simulator\n",
    "\n",
    "calibration_dict = {}\n",
    "\n",
    "for i, qc in enumerate(calibration_circuits):\n",
    "    job = aer_perth_simulator.run(qc, shots=shots)\n",
    "    result = job.result()\n",
    "    counts = result.get_counts()\n",
    "    print('Given initial state', format(i, '03b'), 'we measured', counts)\n",
    "    calibration_dict[format(i, '03b')] = counts"
   ]
  },
  {
   "cell_type": "code",
   "execution_count": null,
   "metadata": {},
   "outputs": [],
   "source": [
    "# Now we can form the calibration matrix\n",
    "calibration_matrix = np.zeros((2**3, 2**3))\n",
    "\n",
    "for i in range(2**3):\n",
    "    for j in range(2**3):\n",
    "        calibration_matrix[i, j] = calibration_dict[format(i, '03b')].get(format(j, '03b'), 0) / shots"
   ]
  },
  {
   "cell_type": "code",
   "execution_count": null,
   "metadata": {},
   "outputs": [],
   "source": [
    "# Let's see what the calibration matrix looks like using a heatmap\n",
    "import seaborn as sns\n",
    "import matplotlib.pyplot as plt\n",
    "\n",
    "plt.figure(figsize=(10, 10))\n",
    "sns.heatmap(calibration_matrix, annot=True, cmap='viridis', cbar=False)\n",
    "plt.xlabel('Measured state')\n",
    "plt.ylabel('Given state')\n",
    "plt.title('Calibration matrix')\n",
    "plt.show()"
   ]
  },
  {
   "cell_type": "code",
   "execution_count": null,
   "metadata": {},
   "outputs": [],
   "source": [
    "# Now we can use the calibration matrix to correct the results of the example circuit\n",
    "example_circuit_transpiled = transpile(example_circuit, backend=aer_perth_simulator) # Try commenting this line out and see what happens: migh\n",
    "job = aer_perth_simulator.run(example_circuit_transpiled, shots=shots)\n",
    "result = job.result()\n",
    "counts = result.get_counts()\n",
    "\n",
    "# invert the calibration matrix\n",
    "inverse_calibration_matrix = np.linalg.inv(calibration_matrix)\n",
    "\n",
    "# Form the counts_vector from the counts dictionary\n",
    "counts_vector = np.array([counts.get(format(i, '03b'), 0) for i in range(2**3)])\n",
    "\n",
    "# Correct the counts_vector\n",
    "corrected_counts_vector = inverse_calibration_matrix @ counts_vector\n",
    "\n",
    "# Form the corrected counts dictionary\n",
    "corrected_counts = {format(i, '03b'): round(corrected_counts_vector[i]) for i in range(2**3)}\n",
    "\n",
    "old_probabilities = {state: count / shots for state, count in counts.items()}\n",
    "new_probabilities = {state: count / shots for state, count in corrected_counts.items()}\n",
    "\n",
    "\n",
    "# Plot the corrected counts versus the original probabilities (side by side with the value above the bars)\n",
    "fig, ax = plt.subplots(1, 2, figsize=(15, 5))\n",
    "plot_histogram(old_probabilities, ax=ax[0], title='Original probabilities')\n",
    "plot_histogram(new_probabilities, ax=ax[1], title='Corrected probabilities')\n",
    "plt.show()"
   ]
  },
  {
   "cell_type": "code",
   "execution_count": null,
   "metadata": {},
   "outputs": [],
   "source": [
    "example_circuit_state = example_circuit.remove_final_measurements(inplace=False)\n",
    "Statevector.from_instruction(example_circuit_state).probabilities_dict()"
   ]
  },
  {
   "cell_type": "markdown",
   "metadata": {},
   "source": [
    "### Exercises"
   ]
  },
  {
   "cell_type": "markdown",
   "metadata": {},
   "source": [
    "**Noise due to sampling:** How can you quantify the variability of the results as a function of the number of shots?"
   ]
  },
  {
   "cell_type": "markdown",
   "metadata": {},
   "source": [
    "**Eigenstates and eigenvalues of different bases:** Measuring in the computational basis required just using a measurement method. The computational basis corresponds to the eigenstates of the Pauli-Z operator. What if we wanted to measure in a different basis? How would you get measurement results in say the X-basis?"
   ]
  },
  {
   "cell_type": "markdown",
   "metadata": {},
   "source": [
    "**Generalizing the structure for controlled unitaries:** What would be the controlled version of the Y gate in matrix form? What about the controlled version of a general 2x2 unitary matrix?"
   ]
  },
  {
   "cell_type": "markdown",
   "metadata": {},
   "source": [
    "**Trying out the real devices:** Try and send your circuits to a real device. What do you get? Do you think you can mitigate the readout errors using the error mitigation technique we discussed?"
   ]
  },
  {
   "cell_type": "markdown",
   "metadata": {},
   "source": [
    "**Calibration Matrices:** Are there any problems with the inverse matrix technique we discussed for readout error mitigation? Can you think of a better way to mitigate readout errors using the calibration matrix?"
   ]
  },
  {
   "cell_type": "markdown",
   "metadata": {},
   "source": [
    "**A custom experiment:** Could you try to recreate the experiment described during the intro to errors section? More specifically, create circuits with varying depth d, apply the X gate d number of times, carry out measurements and calculate the expectation value of Z.\n",
    "Hint: The counts will already be in the computational basis, so you don't need to do anything special to get them in the right basis."
   ]
  },
  {
   "cell_type": "markdown",
   "metadata": {},
   "source": [
    "**Extra:** Try to understand the concept of decoherence and how it affects quantum computation"
   ]
  },
  {
   "cell_type": "markdown",
   "metadata": {},
   "source": [
    "### References\n",
    "\n",
    "- Nielsen and Chuang is a given and a great resource for quantum computing\n",
    "- Qiskit Summer School videos \n",
    "    - 2021 Qiskit Summer School videos on types of noise https://www.youtube.com/watch?v=kV0RsKXSqRg\n",
    "    - Associated resources: https://github.com/Qiskit/platypus/blob/main/notebooks/summer-school/2021\n",
    "- [Refresher and Math] Quantum Computing for Computer Scientists: https://www.youtube.com/watch?v=F_Riqjdh2oM\n",
    "- Running on the real devices (check the README): https://github.com/Qiskit/qiskit-ibm-runtime\n",
    "    - Make sure you make an IBM Quantum account and get your API token!\n",
    "- If you run out of resources, or have any questions, feel free to ask in the Slack!"
   ]
  }
 ],
 "metadata": {
  "kernelspec": {
   "display_name": ".virtual_env",
   "language": "python",
   "name": "python3"
  },
  "language_info": {
   "codemirror_mode": {
    "name": "ipython",
    "version": 3
   },
   "file_extension": ".py",
   "mimetype": "text/x-python",
   "name": "python",
   "nbconvert_exporter": "python",
   "pygments_lexer": "ipython3",
   "version": "3.10.12"
  }
 },
 "nbformat": 4,
 "nbformat_minor": 2
}
